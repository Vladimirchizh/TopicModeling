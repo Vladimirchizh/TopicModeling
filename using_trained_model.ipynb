{
 "metadata": {
  "language_info": {
   "codemirror_mode": {
    "name": "ipython",
    "version": 3
   },
   "file_extension": ".py",
   "mimetype": "text/x-python",
   "name": "python",
   "nbconvert_exporter": "python",
   "pygments_lexer": "ipython3",
   "version": "3.7.3"
  },
  "orig_nbformat": 2,
  "kernelspec": {
   "name": "python373jvsc74a57bd09bcddea9a7fdba3c2f8ea2404009ba149a6d1d7a9d48029013dc74d1149cbb60",
   "display_name": "Python 3.7.3 64-bit"
  }
 },
 "nbformat": 4,
 "nbformat_minor": 2,
 "cells": [
  {
   "cell_type": "code",
   "execution_count": 1,
   "metadata": {},
   "outputs": [],
   "source": [
    "import artm \n",
    "import pandas as pd"
   ]
  },
  {
   "cell_type": "code",
   "execution_count": null,
   "metadata": {},
   "outputs": [],
   "source": [
    "\n",
    "# batching data for applying it to our model\n",
    "batch_vectorizer = artm.BatchVectorizer(data_path='data_cc_rus.txt',\n",
    "                                        data_format='vowpal_wabbit',\n",
    "                                        collection_name='vw',\n",
    "                                        target_folder='batches_cc_rus')\n",
    "                                        "
   ]
  },
  {
   "cell_type": "code",
   "execution_count": null,
   "metadata": {},
   "outputs": [],
   "source": [
    "# setting up dictionary\n",
    "dictionary = batch_vectorizer.dictionary"
   ]
  },
  {
   "cell_type": "code",
   "execution_count": 17,
   "metadata": {},
   "outputs": [
    {
     "output_type": "error",
     "ename": "NameError",
     "evalue": "name 'transaction_typenames' is not defined",
     "traceback": [
      "\u001b[0;31m---------------------------------------------------------------------------\u001b[0m",
      "\u001b[0;31mNameError\u001b[0m                                 Traceback (most recent call last)",
      "\u001b[0;32m<ipython-input-17-6f5152fbcc16>\u001b[0m in \u001b[0;36m<module>\u001b[0;34m\u001b[0m\n\u001b[1;32m      4\u001b[0m \u001b[0mmodel_artm\u001b[0m \u001b[0;34m=\u001b[0m \u001b[0martm\u001b[0m\u001b[0;34m.\u001b[0m\u001b[0mARTM\u001b[0m\u001b[0;34m(\u001b[0m\u001b[0mtopic_names\u001b[0m\u001b[0;34m=\u001b[0m\u001b[0mtopic_names\u001b[0m\u001b[0;34m,\u001b[0m\u001b[0mtransaction_typenames\u001b[0m \u001b[0;34m=\u001b[0m \u001b[0;32mNone\u001b[0m\u001b[0;34m)\u001b[0m\u001b[0;31m \u001b[0m\u001b[0;31m\\\u001b[0m\u001b[0;34m\u001b[0m\u001b[0;34m\u001b[0m\u001b[0m\n\u001b[1;32m      5\u001b[0m     .load(filename='artm_model', \n\u001b[0;32m----> 6\u001b[0;31m         model_name='n_wt')\n\u001b[0m",
      "\u001b[0;32m~/anaconda3/lib/python3.7/site-packages/bigartm-0.10.0-py3.7.egg/artm/artm_model.py\u001b[0m in \u001b[0;36mload\u001b[0;34m(self, filename, model_name)\u001b[0m\n\u001b[1;32m    718\u001b[0m             \u001b[0;32mfor\u001b[0m \u001b[0mtransaction_typename\u001b[0m \u001b[0;32min\u001b[0m \u001b[0mconfig\u001b[0m\u001b[0;34m.\u001b[0m\u001b[0mtransaction_typename\u001b[0m\u001b[0;34m:\u001b[0m\u001b[0;34m\u001b[0m\u001b[0;34m\u001b[0m\u001b[0m\n\u001b[1;32m    719\u001b[0m                 \u001b[0mtransaction_typenames\u001b[0m\u001b[0;34m[\u001b[0m\u001b[0mtransaction_typename\u001b[0m\u001b[0;34m]\u001b[0m \u001b[0;34m=\u001b[0m \u001b[0;36m1.0\u001b[0m\u001b[0;34m\u001b[0m\u001b[0;34m\u001b[0m\u001b[0m\n\u001b[0;32m--> 720\u001b[0;31m         \u001b[0mself\u001b[0m\u001b[0;34m.\u001b[0m\u001b[0m_transaction_typenames\u001b[0m \u001b[0;34m=\u001b[0m \u001b[0mtransaction_typenames\u001b[0m\u001b[0;34m\u001b[0m\u001b[0;34m\u001b[0m\u001b[0m\n\u001b[0m\u001b[1;32m    721\u001b[0m \u001b[0;34m\u001b[0m\u001b[0m\n\u001b[1;32m    722\u001b[0m         \u001b[0;31m# Remove all info about previous iterations\u001b[0m\u001b[0;34m\u001b[0m\u001b[0;34m\u001b[0m\u001b[0;34m\u001b[0m\u001b[0m\n",
      "\u001b[0;31mNameError\u001b[0m: name 'transaction_typenames' is not defined"
     ]
    }
   ],
   "source": [
    "number_of_topics = 60\n",
    "topic_names = ['topic_{}'.format(i) for i in range(number_of_topics)]\n",
    "\n",
    "model_artm = artm.ARTM(topic_names=topic_names,\n",
    "                       cache_theta=True,\n",
    "                       dictionary=dictionary, \n",
    "                       seed = 123,\n",
    "                       show_progress_bars = True) \\\n",
    "    .load(filename='artm_model', \n",
    "        model_name='n_wt')"
   ]
  },
  {
   "cell_type": "code",
   "execution_count": 4,
   "metadata": {},
   "outputs": [
    {
     "output_type": "error",
     "ename": "NameError",
     "evalue": "name 'transaction_typenames' is not defined",
     "traceback": [
      "\u001b[0;31m---------------------------------------------------------------------------\u001b[0m",
      "\u001b[0;31mNameError\u001b[0m                                 Traceback (most recent call last)",
      "\u001b[0;32m<ipython-input-4-1ff5a18a335d>\u001b[0m in \u001b[0;36m<module>\u001b[0;34m\u001b[0m\n\u001b[0;32m----> 1\u001b[0;31m \u001b[0mmodel_artm\u001b[0m\u001b[0;34m.\u001b[0m\u001b[0mload\u001b[0m\u001b[0;34m(\u001b[0m\u001b[0;34m'artm_model'\u001b[0m\u001b[0;34m)\u001b[0m\u001b[0;34m\u001b[0m\u001b[0;34m\u001b[0m\u001b[0m\n\u001b[0m",
      "\u001b[0;32m~/anaconda3/lib/python3.7/site-packages/bigartm-0.10.0-py3.7.egg/artm/artm_model.py\u001b[0m in \u001b[0;36mload\u001b[0;34m(self, filename, model_name)\u001b[0m\n\u001b[1;32m    718\u001b[0m             \u001b[0;32mfor\u001b[0m \u001b[0mtransaction_typename\u001b[0m \u001b[0;32min\u001b[0m \u001b[0mconfig\u001b[0m\u001b[0;34m.\u001b[0m\u001b[0mtransaction_typename\u001b[0m\u001b[0;34m:\u001b[0m\u001b[0;34m\u001b[0m\u001b[0;34m\u001b[0m\u001b[0m\n\u001b[1;32m    719\u001b[0m                 \u001b[0mtransaction_typenames\u001b[0m\u001b[0;34m[\u001b[0m\u001b[0mtransaction_typename\u001b[0m\u001b[0;34m]\u001b[0m \u001b[0;34m=\u001b[0m \u001b[0;36m1.0\u001b[0m\u001b[0;34m\u001b[0m\u001b[0;34m\u001b[0m\u001b[0m\n\u001b[0;32m--> 720\u001b[0;31m         \u001b[0mself\u001b[0m\u001b[0;34m.\u001b[0m\u001b[0m_transaction_typenames\u001b[0m \u001b[0;34m=\u001b[0m \u001b[0mtransaction_typenames\u001b[0m\u001b[0;34m\u001b[0m\u001b[0;34m\u001b[0m\u001b[0m\n\u001b[0m\u001b[1;32m    721\u001b[0m \u001b[0;34m\u001b[0m\u001b[0m\n\u001b[1;32m    722\u001b[0m         \u001b[0;31m# Remove all info about previous iterations\u001b[0m\u001b[0;34m\u001b[0m\u001b[0;34m\u001b[0m\u001b[0;34m\u001b[0m\u001b[0m\n",
      "\u001b[0;31mNameError\u001b[0m: name 'transaction_typenames' is not defined"
     ]
    }
   ],
   "source": [
    "model_artm.load('artm_model')"
   ]
  },
  {
   "cell_type": "code",
   "execution_count": 12,
   "metadata": {},
   "outputs": [
    {
     "output_type": "stream",
     "name": "stdout",
     "text": [
      "Requirement already satisfied: bigartm in /Users/apple/anaconda3/lib/python3.7/site-packages/bigartm-0.10.0-py3.7.egg (0.10.0)\nRequirement already satisfied: pandas in /Users/apple/anaconda3/lib/python3.7/site-packages (from bigartm) (0.24.2)\nRequirement already satisfied: numpy in /Users/apple/anaconda3/lib/python3.7/site-packages (from bigartm) (1.19.2)\nRequirement already satisfied: pytz>=2011k in /Users/apple/anaconda3/lib/python3.7/site-packages (from pandas->bigartm) (2021.1)\nRequirement already satisfied: python-dateutil>=2.5.0 in /Users/apple/anaconda3/lib/python3.7/site-packages (from pandas->bigartm) (2.8.0)\nRequirement already satisfied: six>=1.5 in /Users/apple/anaconda3/lib/python3.7/site-packages (from python-dateutil>=2.5.0->pandas->bigartm) (1.15.0)\n"
     ]
    }
   ],
   "source": [
    "!pip install bigartm\n",
    "\n"
   ]
  },
  {
   "cell_type": "code",
   "execution_count": null,
   "metadata": {},
   "outputs": [],
   "source": []
  }
 ]
}